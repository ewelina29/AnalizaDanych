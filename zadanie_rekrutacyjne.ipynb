{
  "nbformat": 4,
  "nbformat_minor": 0,
  "metadata": {
    "celltoolbar": "Edit Metadata",
    "kernelspec": {
      "display_name": "Python 3",
      "language": "python",
      "name": "python3"
    },
    "language_info": {
      "codemirror_mode": {
        "name": "ipython",
        "version": 3
      },
      "file_extension": ".py",
      "mimetype": "text/x-python",
      "name": "python",
      "nbconvert_exporter": "python",
      "pygments_lexer": "ipython3",
      "version": "3.7.4"
    },
    "colab": {
      "name": "zadanie_rekrutacyjne.ipynb",
      "provenance": [],
      "collapsed_sections": [],
      "include_colab_link": true
    }
  },
  "cells": [
    {
      "cell_type": "markdown",
      "metadata": {
        "id": "view-in-github",
        "colab_type": "text"
      },
      "source": [
        "<a href=\"https://colab.research.google.com/github/ewelina29/AnalizaDanych/blob/main/zadanie_rekrutacyjne.ipynb\" target=\"_parent\"><img src=\"https://colab.research.google.com/assets/colab-badge.svg\" alt=\"Open In Colab\"/></a>"
      ]
    },
    {
      "cell_type": "markdown",
      "metadata": {
        "id": "sXKXEfB6mIR_"
      },
      "source": [
        "**Seria warsztatów z analizy danych w Pythonie**\n",
        "\n",
        "_Zadanie rekrutacyjne_\n",
        "\n",
        "Napisz funkcję <code><font color=\"blue\">are_anagrams</font>(s1, s2, s3)</code>, która zwróci:\n",
        "\n",
        "* <code>True</code>, jeżeli łańcuchy znaków <code>s1, s2, s3</code> są anagramami,\n",
        "\n",
        "* <code>False</code>, jeżeli łańcuchy znaków <code>s1, s2, s3</code> nie są anagramami.\n",
        "\n",
        "Załóż, że maksymalna długość każdego z łańcuchów znaków jest równa **5**.\n",
        "\n",
        "Uzasadnij zaproponowane rozwiązanie, umieszczając komentarze w treści kodu."
      ]
    },
    {
      "cell_type": "code",
      "metadata": {
        "id": "4-UgS1CtmISH"
      },
      "source": [
        "# funkcja tworząca listę liter podanego słowa i sortująca je\n",
        "def word_letters(word):\n",
        "      letters = [letter for letter in word]\n",
        "      letters.sort()\n",
        "      return letters\n",
        "\n",
        "# funkcja porównująca 3 słowa\n",
        "def are_anagrams(s1, s2, s3):\n",
        "    s1_letters = word_letters(s1)\n",
        "    s2_letters = word_letters(s2)\n",
        "\n",
        "    # jeśli dwa pierwsze słowa nie będą anagramami (inny zestaw liter), to można przerwać wykonanie funkcji i zwrócić False\n",
        "    if s1_letters != s2_letters:\n",
        "      return False\n",
        "\n",
        "    s3_letters = word_letters(s3)\n",
        "\n",
        "    # Jeśli trzecie słowo będzie miało takie same litery jak drugie, to wszystkie słowa są anagramami\n",
        "    if s2_letters == s3_letters:\n",
        "      return True\n",
        "    return False\n",
        "\n",
        "# uniwersalna wersja powyższej funkcji dla nieograniczonej ilości słów\n",
        "def are_anagrams_uni(*words):\n",
        "    if not words:\n",
        "      return False\n",
        "    letters0 = word_letters(words[0])\n",
        "    for word in words[1:]:\n",
        "      letters1 = word_letters(word)\n",
        "      if letters1 != letters0:\n",
        "        return False\n",
        "\n",
        "    return True"
      ],
      "execution_count": null,
      "outputs": []
    },
    {
      "cell_type": "code",
      "metadata": {
        "colab": {
          "base_uri": "https://localhost:8080/"
        },
        "id": "qQxZYLSrmPay",
        "outputId": "61c623d3-3967-4500-ba4d-baf2b8bc7e93"
      },
      "source": [
        "are_anagrams_uni()"
      ],
      "execution_count": null,
      "outputs": [
        {
          "output_type": "execute_result",
          "data": {
            "text/plain": [
              "False"
            ]
          },
          "metadata": {
            "tags": []
          },
          "execution_count": 25
        }
      ]
    }
  ]
}